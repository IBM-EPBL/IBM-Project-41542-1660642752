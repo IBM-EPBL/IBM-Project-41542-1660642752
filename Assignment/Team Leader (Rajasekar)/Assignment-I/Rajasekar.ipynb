{
  "nbformat": 4,
  "nbformat_minor": 0,
  "metadata": {
    "colab": {
      "provenance": []
    },
    "kernelspec": {
      "name": "python3",
      "display_name": "Python 3"
    },
    "language_info": {
      "name": "python"
    },
    "accelerator": "GPU"
  },
  "cells": [
    {
      "cell_type": "code",
      "execution_count": 1,
      "metadata": {
        "colab": {
          "base_uri": "https://localhost:8080/"
        },
        "id": "xFsaEL1QCR0x",
        "outputId": "04fbe066-a47c-4ea8-a6e8-682153cab1af"
      },
      "outputs": [
        {
          "output_type": "stream",
          "name": "stdout",
          "text": [
            "14\n",
            "14  is Not a prime number\n"
          ]
        }
      ],
      "source": [
        "n=int(input())\n",
        "c=int(n/2)\n",
        "t=0\n",
        "for i in range(2,n):\n",
        "  if(n%i==0):\n",
        "    t+=1\n",
        "if(t==0):\n",
        "  print(n,\" is a prime number \")\n",
        "else:       \n",
        "  print(n,\" is Not a prime number\")"
      ]
    },
    {
      "cell_type": "code",
      "source": [
        "n=int(input())\n",
        "a=1\n",
        "while(a<=n):\n",
        "  if(a%2!=0):\n",
        "    print(a)\n",
        "  a=a+1"
      ],
      "metadata": {
        "colab": {
          "base_uri": "https://localhost:8080/"
        },
        "id": "uitTSzYSE-Jd",
        "outputId": "d05dba9a-463b-4c35-f179-8eb8699c428c"
      },
      "execution_count": 2,
      "outputs": [
        {
          "output_type": "stream",
          "name": "stdout",
          "text": [
            "10\n",
            "1\n",
            "3\n",
            "5\n",
            "7\n",
            "9\n"
          ]
        }
      ]
    },
    {
      "cell_type": "code",
      "source": [
        "def isPrime(n):\n",
        "  if(n==1 or n==0):\n",
        "    return False\n",
        "  for i in range(2,n):\n",
        "    if(n%i==0):\n",
        "      return False\n",
        "  return True\n",
        "\n",
        "N =int(input())\n",
        "for i in range(1,N+1):\n",
        "  if(isPrime(i)):\n",
        "    print(i,end=\" \")"
      ],
      "metadata": {
        "colab": {
          "base_uri": "https://localhost:8080/"
        },
        "id": "Hw-bvnl5FB7y",
        "outputId": "8fb0db6f-2b34-406d-e3ff-f6b7a2ce20fe"
      },
      "execution_count": 3,
      "outputs": [
        {
          "output_type": "stream",
          "name": "stdout",
          "text": [
            "100\n",
            "2 3 5 7 11 13 17 19 23 29 31 37 41 43 47 53 59 61 67 71 73 79 83 89 97 "
          ]
        }
      ]
    },
    {
      "cell_type": "code",
      "source": [
        "num=int(input())\n",
        "n1, n2 = 0, 1\n",
        "print(\"Fibonacci Series:\", n1, n2, end=\" \")\n",
        "for i in range(2, num):\n",
        "    n3 = n1 + n2\n",
        "    n1 = n2\n",
        "    n2 = n3\n",
        "    print(n3, end=\" \")\n",
        "\n",
        "print()"
      ],
      "metadata": {
        "colab": {
          "base_uri": "https://localhost:8080/"
        },
        "id": "UW9xliXIFHcT",
        "outputId": "1394738f-7bba-4b9d-b803-ed6a58a03dfe"
      },
      "execution_count": 4,
      "outputs": [
        {
          "output_type": "stream",
          "name": "stdout",
          "text": [
            "10\n",
            "Fibonacci Series: 0 1 1 2 3 5 8 13 21 34 \n"
          ]
        }
      ]
    }
  ]
}